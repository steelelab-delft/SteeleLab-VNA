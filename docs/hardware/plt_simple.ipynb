{
 "cells": [
  {
   "cell_type": "markdown",
   "metadata": {},
   "source": [
    "# Simple plotting notebook to test overlay\n",
    "\n",
    "Be careful, before running this notebook, the SLVNA Python server has to be stopped.\n",
    "It starts every minute unless you edit root's crontab (via SSH) with `crontab -e -u root`\n",
    "and comment the entry with start_vna_server.sh. To stop the Python server manually,\n",
    "run via SSH `nc localhost 2024`, then type ! followed by ctrl + d and finally ctrl + c.\n",
    "Also make sure the Red Pitaya has a clock signal (either external or internal), otherwise\n",
    "the DMA request will hang."
   ]
  },
  {
   "cell_type": "code",
   "execution_count": 1,
   "metadata": {},
   "outputs": [],
   "source": [
    "import numpy as np\n",
    "from pynq import MMIO, Overlay, allocate\n",
    "import matplotlib.pyplot as plt\n",
    "import time"
   ]
  },
  {
   "cell_type": "markdown",
   "metadata": {},
   "source": [
    "## Helper functions"
   ]
  },
  {
   "cell_type": "code",
   "execution_count": 2,
   "metadata": {},
   "outputs": [],
   "source": [
    "RAW_TO_VOLTS = 2**-25   # Fixed point to floating point\n",
    "\n",
    "def uint64_to_signed_int(unsigned):\n",
    "    \"\"\"Converts 64-bit unsigned integer to signed integer. By Bit Twiddling Hacks; see\n",
    "    https://stackoverflow.com/questions/1375897/how-to-get-the-signed-integer-value-of-a-long-in-python.\n",
    "    \"\"\"\n",
    "    unsigned &= (1<<64) - 1  # Keep only the lowest 64 bits.\n",
    "    return (unsigned ^ (1<<63)) - (1<<63)  # Swap and shift down.\n",
    "\n",
    "def buffer_to_volts(buffer):\n",
    "    \"\"\"Divides integer I and Q values by sample count. Buffer is an array containing a multiple of three\n",
    "    elements: I value, Q value, count. The I and Q values are divided by count\n",
    "    and multiplied by a conversion factor to get the unit of volts.\n",
    "    \"\"\"\n",
    "    volts = [\n",
    "        (\n",
    "            uint64_to_signed_int(int(buffer[i])          # to Python integer(first entry: unsigned 32-bit integer\n",
    "            + (int(buffer[i + 1]) << 32))                #     adding second unsigned integer shifted left 32 bits)\n",
    "            / buffer[i + 2]                              # dividing by third entry (count)\n",
    "            * RAW_TO_VOLTS                               # scaling to units of volts\n",
    "        )\n",
    "        for i in range(0, 12, 3)                         # i = 0, 3, 6, 9\n",
    "    ]\n",
    "    return volts\n",
    "\n",
    "def volts_to_phasors(volts):\n",
    "    \"\"\"Interpret the 4 voltage values as phasors\n",
    "    \"\"\"\n",
    "    dut = volts[0] + 1j*volts[1]\n",
    "    ref = volts[2] + 1j*volts[3]\n",
    "    rel = dut/ref\n",
    "    return dut, ref, rel"
   ]
  },
  {
   "cell_type": "code",
   "execution_count": 3,
   "metadata": {},
   "outputs": [],
   "source": [
    "# Set configuration bits using MMIO\n",
    "\n",
    "ADC_FREQ = 125_000_000\n",
    "cyc = lambda x: round(x*ADC_FREQ)\n",
    "RESET_BIT = 0b1\n",
    "\n",
    "# Trigger configuration, eg trigger1_conf = TRIG_POS+TRIG_SWEEP\n",
    "TRIG_POS = 0b0000\n",
    "TRIG_NEG = 0b0001\n",
    "TRIG_SWEEP = 0b0010\n",
    "TRIG_POINTS = 0b0100\n",
    "\n",
    "mmio_dead_time = MMIO(0x42000000)       # Dead time in ADC samples\n",
    "mmio_point_time = MMIO(0x42000008)      # Total point time in ADC samples (dead time + accumulation time)\n",
    "mmio_trigger_conf = MMIO(0x41200000)    # Trigger config\n",
    "mmio_general_conf = MMIO(0x41200008)    # General config\n",
    "\n",
    "def set_config(dead_time = 300E-6, point_time = 1E-3, trigger_length = 10E-6, trigger1_conf = 0, trigger2_conf = 0):\n",
    "#     assert trigger_length <= dead_time <= point_time, \"Trigger length should be less than settling time, less than total point time!\"\n",
    "    \n",
    "    mmio_dead_time.write(0, cyc(dead_time))              # Only one value in register, overwrite completely\n",
    "    mmio_point_time.write(0, cyc(point_time))            # Idem\n",
    "    mmio_trigger_conf.write(0, cyc(trigger_length) + (trigger1_conf << 24) + (trigger2_conf << 28))\n",
    "\n",
    "def read_status():\n",
    "    return mmio_general_conf.read(0)\n",
    "\n",
    "def start_acq(dma_recv):\n",
    "    curr = mmio_general_conf.read(0)\n",
    "    mmio_general_conf.write(0, curr | RESET_BIT)\n",
    "    \n",
    "    # dma request of 16 words to get rid of misformed packet\n",
    "    buffer = allocate(shape=(16,), dtype=np.uint32)\n",
    "    dma_recv.transfer(buffer)\n",
    "    dma_recv.wait()\n",
    "    del buffer\n",
    "\n",
    "def stop_acq():\n",
    "    curr = mmio_general_conf.read(0)\n",
    "    mmio_general_conf.write(0, curr & ~RESET_BIT)"
   ]
  },
  {
   "cell_type": "markdown",
   "metadata": {},
   "source": [
    "## Using the VNA"
   ]
  },
  {
   "cell_type": "code",
   "execution_count": null,
   "metadata": {},
   "outputs": [],
   "source": [
    "# Program the overlay onto the PL, configure it and get a handle for the DMA\n",
    "\n",
    "ol = Overlay(\"/home/xilinx/bit/slvna_v1_0.bit\")\n",
    "\n",
    "dma = ol.dma\n",
    "dma_recv = dma.recvchannel"
   ]
  },
  {
   "cell_type": "code",
   "execution_count": null,
   "metadata": {},
   "outputs": [],
   "source": [
    "# Allocate input buffer and show it's empty\n",
    "\n",
    "data_size = 12\n",
    "buffer = allocate(shape=(data_size,), dtype=np.uint32)\n",
    "\n",
    "for i in range(data_size):\n",
    "    print(f'0x{format(buffer[i], \"02x\")}, ', end='')"
   ]
  },
  {
   "cell_type": "code",
   "execution_count": null,
   "metadata": {},
   "outputs": [],
   "source": [
    "# Transfer data and show it (can repeat indefinitely)\n",
    "\n",
    "set_config(dead_time=250E-6, point_time=1E-3, trigger_length=10E-6, trigger1_conf=TRIG_POS+TRIG_SWEEP, trigger2_conf=TRIG_POS+TRIG_POINTS)\n",
    "\n",
    "# Acquire data\n",
    "start_acq(dma_recv)\n",
    "dma_recv.transfer(buffer)\n",
    "dma_recv.wait()\n",
    "stop_acq()\n",
    "\n",
    "# Convert it to human units\n",
    "volts = buffer_to_volts(buffer)\n",
    "dut, ref, rel = volts_to_phasors(volts)\n",
    "\n",
    "# Print results\n",
    "for i in range(data_size):\n",
    "    print(f'0x{format(buffer[i], \"02x\")}, ', end='')\n",
    "print()\n",
    "print(volts)\n",
    "print(f'DUT: {np.abs(dut):.3f}V, {np.angle(dut):.3f}r, ' +\n",
    "      f'REF: {np.abs(ref):.3f}V, {np.angle(ref):.3f}r, ' +\n",
    "      f'REL: {np.abs(rel):.3f}, {np.angle(rel):.3f}r')"
   ]
  },
  {
   "cell_type": "code",
   "execution_count": null,
   "metadata": {
    "scrolled": true
   },
   "outputs": [],
   "source": [
    "POINTS = 4301\n",
    "\n",
    "values = np.ndarray((POINTS, data_size), dtype=np.uint32)\n",
    "set_config(dead_time=900E-6, point_time=1E-3, trigger_length=10E-6, trigger1_conf=TRIG_POS+TRIG_POINTS+TRIG_SWEEP, trigger2_conf=TRIG_POS+TRIG_POINTS)\n",
    "\n",
    "cnt = 0\n",
    "start_acq(dma_recv)\n",
    "start = time.perf_counter()\n",
    "for i in range(POINTS):\n",
    "    dma_recv.transfer(buffer)\n",
    "    dma_recv.wait()\n",
    "    values[i] = buffer\n",
    "end = time.perf_counter()\n",
    "stop_acq()\n",
    "print(f\"Took {end-start:.4f}s\")\n",
    "\n",
    "# Calculate after the loop to allow faster IFBWs (above 2k instead of barely 1k)\n",
    "rel_values = []\n",
    "for buf in values:\n",
    "    volts = buffer_to_volts(buf)\n",
    "    dut, ref, rel = volts_to_phasors(volts)\n",
    "    rel_values.append(rel)\n",
    "\n",
    "plt.plot(np.abs(rel_values))\n",
    "# plt.ylim(0, 1)\n",
    "plt.show()\n",
    "plt.plot(np.angle(rel_values))\n",
    "# plt.ylim(-np.pi, np.pi)\n",
    "plt.show()"
   ]
  },
  {
   "cell_type": "code",
   "execution_count": 25,
   "metadata": {},
   "outputs": [],
   "source": [
    "stop_acq()"
   ]
  }
 ],
 "metadata": {
  "kernelspec": {
   "display_name": "Python 3 (ipykernel)",
   "language": "python",
   "name": "python3"
  }
 },
 "nbformat": 4,
 "nbformat_minor": 2
}
