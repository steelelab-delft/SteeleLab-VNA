{
 "cells": [
  {
   "cell_type": "markdown",
   "metadata": {},
   "source": [
    "## Helper functions"
   ]
  },
  {
   "cell_type": "code",
   "execution_count": 1,
   "metadata": {},
   "outputs": [],
   "source": [
    "import numpy as np\n",
    "from pynq import MMIO, Overlay, allocate\n",
    "\n",
    "RAW_TO_VOLTS = 2**-25   # Fixed point to floating point\n",
    "\n",
    "def uint64_to_signed_int(unsigned):\n",
    "    \"\"\"Converts 64-bit unsigned integer to signed integer. By Bit Twiddling Hacks; see\n",
    "    https://stackoverflow.com/questions/1375897/how-to-get-the-signed-integer-value-of-a-long-in-python.\n",
    "    \"\"\"\n",
    "    unsigned &= (1<<64) - 1  # Keep only the lowest 64 bits.\n",
    "    return (unsigned ^ (1<<63)) - (1<<63)  # Swap and shift down.\n",
    "\n",
    "def buffer_to_volts(buffer):\n",
    "    \"\"\"Divides integer I and Q values by sample count. Buffer is an array containing a multiple of three\n",
    "    elements: I value, Q value, count. The I and Q values are divided by count\n",
    "    and multiplied by a conversion factor to get the unit of volts.\n",
    "    \"\"\"\n",
    "    volts = [\n",
    "        (\n",
    "            uint64_to_signed_int(int(buffer[i])          # to Python integer(first entry: unsigned 32-bit integer\n",
    "            + (int(buffer[i + 1]) << 32))                #     adding second unsigned integer shifted left 32 bits)\n",
    "            / buffer[i + 2]                              # dividing by third entry (count)\n",
    "            * RAW_TO_VOLTS                               # scaling to units of volts\n",
    "        )\n",
    "        for i in range(0, 12, 3)                         # i = 0, 3, 6, 9\n",
    "    ]\n",
    "    return volts\n",
    "\n",
    "def volts_to_phasors(volts):\n",
    "    \"\"\"Interpret the 4 voltage values as phasors\n",
    "    \"\"\"\n",
    "    dut = volts[0] + 1j*volts[1]\n",
    "    ref = volts[2] + 1j*volts[3]\n",
    "    rel = dut/ref\n",
    "    return dut, ref, rel"
   ]
  },
  {
   "cell_type": "code",
   "execution_count": 2,
   "metadata": {},
   "outputs": [],
   "source": [
    "# Set configuration bits using MMIO\n",
    "\n",
    "ADC_FREQ = 125_000_000\n",
    "cyc = lambda x: round(x*ADC_FREQ)\n",
    "RESET_BIT = 0b1\n",
    "\n",
    "# Trigger configuration, eg trigger1_conf = TRIG_POS+TRIG_SWEEP\n",
    "TRIG_POS = 0b0000\n",
    "TRIG_NEG = 0b0001\n",
    "TRIG_SWEEP = 0b0010\n",
    "TRIG_POINTS = 0b0100\n",
    "\n",
    "mmio_dead_time = MMIO(0x42000000)       # Dead time in ADC samples\n",
    "mmio_point_time = MMIO(0x42000008)      # Total point time in ADC samples (dead time + accumulation time)\n",
    "mmio_trigger_conf = MMIO(0x41200000)    # Trigger config\n",
    "mmio_general_conf = MMIO(0x41200008)    # General config\n",
    "\n",
    "def set_config(dead_time = 300E-6, point_time = 1E-3, trigger_length = 10E-6, trigger1_conf = 0, trigger2_conf = 0):\n",
    "#     assert trigger_length <= dead_time <= point_time, \"Trigger length should be less than settling time, less than total point time!\"\n",
    "    \n",
    "    mmio_dead_time.write(0, cyc(dead_time))              # Only one value in register, overwrite completely\n",
    "    mmio_point_time.write(0, cyc(point_time))            # Idem\n",
    "    mmio_trigger_conf.write(0, cyc(trigger_length) + (trigger1_conf << 24) + (trigger2_conf << 28))\n",
    "\n",
    "def read_status():\n",
    "    return mmio_general_conf.read(0)\n",
    "\n",
    "def start_acq(dma_recv):\n",
    "    curr = mmio_general_conf.read(0)\n",
    "    mmio_general_conf.write(0, curr | RESET_BIT)\n",
    "    \n",
    "    # dma request of 16 words to get rid of misformed packet\n",
    "    buffer = allocate(shape=(16,), dtype=np.uint32)\n",
    "    dma_recv.transfer(buffer)\n",
    "    dma_recv.wait()\n",
    "    del buffer\n",
    "\n",
    "def stop_acq():\n",
    "    curr = mmio_general_conf.read(0)\n",
    "    mmio_general_conf.write(0, curr & ~RESET_BIT)"
   ]
  },
  {
   "cell_type": "markdown",
   "metadata": {},
   "source": [
    "## Using the VNA"
   ]
  },
  {
   "cell_type": "code",
   "execution_count": 3,
   "metadata": {},
   "outputs": [
    {
     "data": {
      "application/javascript": "\ntry {\nrequire(['notebook/js/codecell'], function(codecell) {\n  codecell.CodeCell.options_default.highlight_modes[\n      'magic_text/x-csrc'] = {'reg':[/^%%microblaze/]};\n  Jupyter.notebook.events.one('kernel_ready.Kernel', function(){\n      Jupyter.notebook.get_cells().map(function(cell){\n          if (cell.cell_type == 'code'){ cell.auto_highlight(); } }) ;\n  });\n});\n} catch (e) {};\n"
     },
     "metadata": {},
     "output_type": "display_data"
    },
    {
     "data": {
      "application/javascript": "\ntry {\nrequire(['notebook/js/codecell'], function(codecell) {\n  codecell.CodeCell.options_default.highlight_modes[\n      'magic_text/x-csrc'] = {'reg':[/^%%pybind11/]};\n  Jupyter.notebook.events.one('kernel_ready.Kernel', function(){\n      Jupyter.notebook.get_cells().map(function(cell){\n          if (cell.cell_type == 'code'){ cell.auto_highlight(); } }) ;\n  });\n});\n} catch (e) {};\n"
     },
     "metadata": {},
     "output_type": "display_data"
    }
   ],
   "source": [
    "# Program the overlay onto the PL, configure it and get a handle for the DMA\n",
    "\n",
    "ol = Overlay(\"/home/xilinx/bit/vna_v1_7.bit\")\n",
    "set_config(dead_time=10E-6, point_time=1000E-6, trigger_length=10E-6, trigger1_conf=TRIG_POS+TRIG_SWEEP, trigger2_conf=TRIG_NEG+TRIG_POINTS)\n",
    "\n",
    "dma = ol.dma\n",
    "dma_recv = dma.recvchannel\n",
    "\n",
    "# start_acq()"
   ]
  },
  {
   "cell_type": "code",
   "execution_count": 50,
   "metadata": {},
   "outputs": [],
   "source": [
    "set_config(dead_time=10E-6, point_time=1000E-6, trigger_length=10E-6, trigger1_conf=TRIG_POS+TRIG_SWEEP, trigger2_conf=TRIG_NEG+TRIG_POINTS)\n",
    "\n",
    "start_acq(dma_recv)"
   ]
  },
  {
   "cell_type": "code",
   "execution_count": 4,
   "metadata": {},
   "outputs": [
    {
     "name": "stdout",
     "output_type": "stream",
     "text": [
      "0x00, 0x00, 0x00, 0x00, 0x00, 0x00, 0x00, 0x00, 0x00, 0x00, 0x00, 0x00, "
     ]
    }
   ],
   "source": [
    "# Allocate input buffer and show it's empty\n",
    "\n",
    "data_size = 12\n",
    "buffer = allocate(shape=(data_size,), dtype=np.uint32)\n",
    "\n",
    "for i in range(data_size):\n",
    "    print(f'0x{format(buffer[i], \"02x\")}, ', end='')"
   ]
  },
  {
   "cell_type": "code",
   "execution_count": 49,
   "metadata": {},
   "outputs": [
    {
     "name": "stdout",
     "output_type": "stream",
     "text": [
      "0xb13d955a, 0xfffffff9, 0x6df, 0x5c397717, 0xfffffffe, 0x6df, 0x9c08c458, 0x01, 0x6df, 0xb770887e, 0xfffffff9, 0x6df, \n",
      "[-0.45899927226435805, -0.1193222076700383, 0.1171217299510702, -0.4572371851320359]\n",
      "DUT: 0.474V, -2.887r, REF: 0.472V, -1.320r, REL: 1.005, -1.567r\n"
     ]
    }
   ],
   "source": [
    "# Transfer data and show it (can repeat indefinitely)\n",
    "\n",
    "\n",
    "# Acquire data\n",
    "start_acq(dma_recv)\n",
    "dma_recv.transfer(buffer)\n",
    "dma_recv.wait()\n",
    "stop_acq()\n",
    "\n",
    "# Convert it to human units\n",
    "volts = buffer_to_volts(buffer)\n",
    "dut, ref, rel = volts_to_phasors(volts)\n",
    "\n",
    "# Print results\n",
    "for i in range(data_size):\n",
    "    print(f'0x{format(buffer[i], \"02x\")}, ', end='')\n",
    "print()\n",
    "print(volts)\n",
    "print(f'DUT: {np.abs(dut):.3f}V, {np.angle(dut):.3f}r, ' +\n",
    "      f'REF: {np.abs(ref):.3f}V, {np.angle(ref):.3f}r, ' +\n",
    "      f'REL: {np.abs(rel):.3f}, {np.angle(rel):.3f}r')"
   ]
  },
  {
   "cell_type": "code",
   "execution_count": 201,
   "metadata": {},
   "outputs": [
    {
     "name": "stdout",
     "output_type": "stream",
     "text": [
      "2765 transfers (0x63a6626c)              "
     ]
    },
    {
     "ename": "KeyboardInterrupt",
     "evalue": "",
     "output_type": "error",
     "traceback": [
      "\u001b[0;31m---------------------------------------------------------------------------\u001b[0m",
      "\u001b[0;31mKeyboardInterrupt\u001b[0m                         Traceback (most recent call last)",
      "Input \u001b[0;32mIn [201]\u001b[0m, in \u001b[0;36m<cell line: 3>\u001b[0;34m()\u001b[0m\n\u001b[1;32m      4\u001b[0m dma_recv\u001b[38;5;241m.\u001b[39mtransfer(buffer)\n\u001b[1;32m      5\u001b[0m \u001b[38;5;66;03m# start_acq()\u001b[39;00m\n\u001b[0;32m----> 6\u001b[0m \u001b[43mdma_recv\u001b[49m\u001b[38;5;241;43m.\u001b[39;49m\u001b[43mwait\u001b[49m\u001b[43m(\u001b[49m\u001b[43m)\u001b[49m\n\u001b[1;32m      7\u001b[0m \u001b[38;5;66;03m# stop_acq()\u001b[39;00m\n\u001b[1;32m      8\u001b[0m cnt \u001b[38;5;241m+\u001b[39m\u001b[38;5;241m=\u001b[39m \u001b[38;5;241m1\u001b[39m\n",
      "File \u001b[0;32m/usr/local/share/pynq-venv/lib/python3.10/site-packages/pynq/lib/dma.py:181\u001b[0m, in \u001b[0;36m_SDMAChannel.wait\u001b[0;34m(self)\u001b[0m\n\u001b[1;32m    179\u001b[0m         \u001b[38;5;28;01mif\u001b[39;00m error \u001b[38;5;241m&\u001b[39m \u001b[38;5;241m0x40\u001b[39m:\n\u001b[1;32m    180\u001b[0m             \u001b[38;5;28;01mraise\u001b[39;00m \u001b[38;5;167;01mRuntimeError\u001b[39;00m(\u001b[38;5;124m\"\u001b[39m\u001b[38;5;124mDMA Decode Error (invalid address)\u001b[39m\u001b[38;5;124m\"\u001b[39m)\n\u001b[0;32m--> 181\u001b[0m     \u001b[38;5;28;01mif\u001b[39;00m \u001b[38;5;28mself\u001b[39m\u001b[38;5;241m.\u001b[39midle:\n\u001b[1;32m    182\u001b[0m         \u001b[38;5;28;01mbreak\u001b[39;00m\n\u001b[1;32m    183\u001b[0m \u001b[38;5;28;01mif\u001b[39;00m \u001b[38;5;129;01mnot\u001b[39;00m \u001b[38;5;28mself\u001b[39m\u001b[38;5;241m.\u001b[39m_flush_before:\n",
      "\u001b[0;31mKeyboardInterrupt\u001b[0m: "
     ]
    }
   ],
   "source": [
    "cnt = 0\n",
    "start_acq(dma_recv)\n",
    "while True:\n",
    "    dma_recv.transfer(buffer)\n",
    "    # start_acq()\n",
    "    dma_recv.wait()\n",
    "    # stop_acq()\n",
    "    cnt += 1\n",
    "    print(f\"\\r{cnt} transfers (0x{buffer[0]:8x})              \", end='')"
   ]
  },
  {
   "cell_type": "markdown",
   "metadata": {},
   "source": [
    "## Debugging\n"
   ]
  },
  {
   "cell_type": "code",
   "execution_count": 223,
   "metadata": {},
   "outputs": [
    {
     "data": {
      "text/plain": [
       "RegisterMap {\n",
       "  MM2S_DMACR = Register(RS=0, Reset=0, Keyhole=0, Cyclic_BD_Enable=0, IOC_IrqEn=0, Dly_IrqEn=0, Err_IrqEn=0, IRQThreshold=0, IRQDelay=0),\n",
       "  MM2S_DMASR = Register(Halted=0, Idle=0, SGIncld=0, DMAIntErr=0, DMASlvErr=0, DMADecErr=0, SGIntErr=0, SGSlvErr=0, SGDecErr=0, IOC_Irq=0, Dly_Irq=0, Err_Irq=0, IRQThresholdSts=0, IRQDelaySts=0),\n",
       "  MM2S_CURDESC = Register(Current_Descriptor_Pointer=0),\n",
       "  MM2S_CURDESC_MSB = Register(Current_Descriptor_Pointer=0),\n",
       "  MM2S_TAILDESC = Register(Tail_Descriptor_Pointer=0),\n",
       "  MM2S_TAILDESC_MSB = Register(Tail_Descriptor_Pointer=0),\n",
       "  MM2S_SA = Register(Source_Address=0),\n",
       "  MM2S_SA_MSB = Register(Source_Address=0),\n",
       "  MM2S_LENGTH = Register(Length=0),\n",
       "  SG_CTL = Register(SG_CACHE=0, SG_USER=0),\n",
       "  S2MM_DMACR = Register(RS=1, Reset=0, Keyhole=0, Cyclic_BD_Enable=0, IOC_IrqEn=0, Dly_IrqEn=0, Err_IrqEn=0, IRQThreshold=1, IRQDelay=0),\n",
       "  S2MM_DMASR = Register(Halted=0, Idle=0, SGIncld=0, DMAIntErr=0, DMASlvErr=0, DMADecErr=0, SGIntErr=0, SGSlvErr=0, SGDecErr=0, IOC_Irq=0, Dly_Irq=0, Err_Irq=0, IRQThresholdSts=0, IRQDelaySts=0),\n",
       "  S2MM_CURDESC = Register(Current_Descriptor_Pointer=0),\n",
       "  S2MM_CURDESC_MSB = Register(Current_Descriptor_Pointer=0),\n",
       "  S2MM_TAILDESC = Register(Tail_Descriptor_Pointer=0),\n",
       "  S2MM_TAILDESC_MSB = Register(Tail_Descriptor_Pointer=0),\n",
       "  S2MM_DA = Register(Destination_Address=0),\n",
       "  S2MM_DA_MSB = Register(Destination_Address=0),\n",
       "  S2MM_LENGTH = Register(Length=0)\n",
       "}"
      ]
     },
     "execution_count": 223,
     "metadata": {},
     "output_type": "execute_result"
    }
   ],
   "source": [
    "# Print DMA status registers\n",
    "dma.register_map"
   ]
  },
  {
   "cell_type": "code",
   "execution_count": 157,
   "metadata": {},
   "outputs": [
    {
     "name": "stdout",
     "output_type": "stream",
     "text": [
      "1\n"
     ]
    }
   ],
   "source": [
    "# Print VNA status register\n",
    "print(read_status())"
   ]
  },
  {
   "cell_type": "code",
   "execution_count": 245,
   "metadata": {},
   "outputs": [],
   "source": [
    "stop_acq()"
   ]
  },
  {
   "cell_type": "code",
   "execution_count": 230,
   "metadata": {},
   "outputs": [],
   "source": [
    "start_acq(dma_recv)"
   ]
  }
 ],
 "metadata": {
  "kernelspec": {
   "display_name": "Python 3 (ipykernel)",
   "language": "python",
   "name": "python3"
  },
  "language_info": {
   "codemirror_mode": {
    "name": "ipython",
    "version": 3
   },
   "file_extension": ".py",
   "mimetype": "text/x-python",
   "name": "python",
   "nbconvert_exporter": "python",
   "pygments_lexer": "ipython3",
   "version": "3.10.4"
  }
 },
 "nbformat": 4,
 "nbformat_minor": 2
}
